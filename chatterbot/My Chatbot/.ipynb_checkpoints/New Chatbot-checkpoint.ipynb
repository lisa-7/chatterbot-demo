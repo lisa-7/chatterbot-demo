{
 "cells": [
  {
   "cell_type": "code",
   "execution_count": 1,
   "id": "18f5066a",
   "metadata": {},
   "outputs": [],
   "source": [
    "#importing\n",
    "from nltk.chat.util import Chat,reflections"
   ]
  },
  {
   "cell_type": "code",
   "execution_count": null,
   "id": "8b13e570",
   "metadata": {},
   "outputs": [
    {
     "name": "stdout",
     "output_type": "stream",
     "text": [
      ">hi\n",
      "Hey There\n",
      ">hola\n",
      "Hey There\n",
      ">hello\n",
      "Hey\n",
      ">holla\n",
      "Hey There\n"
     ]
    }
   ],
   "source": [
    "pairs=[\n",
    "    ['(Hi|Hola|Hello|Holla)',['Hey','Hey There']]\n",
    "    ]\n",
    "chat=Chat(pairs)\n",
    "chat.converse()"
   ]
  }
 ],
 "metadata": {
  "kernelspec": {
   "display_name": "Python 3 (ipykernel)",
   "language": "python",
   "name": "python3"
  },
  "language_info": {
   "codemirror_mode": {
    "name": "ipython",
    "version": 3
   },
   "file_extension": ".py",
   "mimetype": "text/x-python",
   "name": "python",
   "nbconvert_exporter": "python",
   "pygments_lexer": "ipython3",
   "version": "3.9.6"
  }
 },
 "nbformat": 4,
 "nbformat_minor": 5
}
