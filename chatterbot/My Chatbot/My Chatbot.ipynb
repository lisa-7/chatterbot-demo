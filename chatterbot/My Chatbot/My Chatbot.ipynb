{
 "cells": [
  {
   "cell_type": "code",
   "execution_count": 19,
   "id": "bef87989",
   "metadata": {
    "scrolled": false
   },
   "outputs": [
    {
     "name": "stdout",
     "output_type": "stream",
     "text": [
      "My Chatbot\n",
      "hello\n"
     ]
    }
   ],
   "source": [
    "import random\n",
    "print('My Chatbot')\n",
    "tup1=('hi','hello','hola','adios')\n",
    "print(random.choice(tup1))"
   ]
  },
  {
   "cell_type": "code",
   "execution_count": 50,
   "id": "e87cff93",
   "metadata": {},
   "outputs": [
    {
     "name": "stdout",
     "output_type": "stream",
     "text": [
      "BOT:1324\n"
     ]
    }
   ],
   "source": [
    "def bot_response(b_resp):\n",
    "    print('BOT:'+str(b_resp)'\\n')"
   ]
  },
  {
   "cell_type": "code",
   "execution_count": 52,
   "id": "41e5f2cd",
   "metadata": {},
   "outputs": [
    {
     "name": "stdout",
     "output_type": "stream",
     "text": [
      "hello\n"
     ]
    },
    {
     "data": {
      "text/plain": [
       "'hello'"
      ]
     },
     "execution_count": 52,
     "metadata": {},
     "output_type": "execute_result"
    }
   ],
   "source": [
    "u_query=''\n",
    "input(str(user_query))\n",
    "calc_response(user_query)"
   ]
  },
  {
   "cell_type": "code",
   "execution_count": null,
   "id": "0fc209fe",
   "metadata": {},
   "outputs": [],
   "source": [
    "def calc_response(u_query):\n",
    "    for bd in bot_data:"
   ]
  }
 ],
 "metadata": {
  "kernelspec": {
   "display_name": "Python 3 (ipykernel)",
   "language": "python",
   "name": "python3"
  },
  "language_info": {
   "codemirror_mode": {
    "name": "ipython",
    "version": 3
   },
   "file_extension": ".py",
   "mimetype": "text/x-python",
   "name": "python",
   "nbconvert_exporter": "python",
   "pygments_lexer": "ipython3",
   "version": "3.9.6"
  }
 },
 "nbformat": 4,
 "nbformat_minor": 5
}
