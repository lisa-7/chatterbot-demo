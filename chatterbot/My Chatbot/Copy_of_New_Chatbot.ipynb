{
 "cells": [
  {
   "cell_type": "code",
   "execution_count": 2,
   "id": "18f5066a",
   "metadata": {
    "id": "18f5066a"
   },
   "outputs": [],
   "source": [
    "#importing\n",
    "from Pairs import response_pairs as pairs\n",
    "from nltk.chat.util import Chat,reflections"
   ]
  },
  {
   "cell_type": "code",
   "execution_count": null,
   "id": "df348dbf",
   "metadata": {
    "colab": {
     "base_uri": "https://localhost:8080/",
     "height": 629
    },
    "id": "df348dbf",
    "outputId": "44a2743e-56bb-4abb-ab4d-c3514f9b00d7",
    "scrolled": true
   },
   "outputs": [
    {
     "name": "stdout",
     "output_type": "stream",
     "text": [
      ">hello\n",
      "Hey, How can I help you?\n",
      ">hello\n",
      "Hey, How can I help you?\n",
      ">what is the website for college\n",
      "Fr. Conceicao Rodrigues College Website: http://www.frcrce.ac.in/index.php \n",
      ">what courses are available\n",
      "Sorry!I can't understand what you said there\n",
      ">what departments are available\n",
      "Sorry!I can't understand what you said there\n",
      ">where is the college\n",
      "The College is at Bandra\n"
     ]
    }
   ],
   "source": [
    "\n",
    "chat=Chat(pairs, reflections)\n",
    "chat.converse()"
   ]
  },
  {
   "cell_type": "code",
   "execution_count": null,
   "id": "9caeb474",
   "metadata": {},
   "outputs": [],
   "source": []
  }
 ],
 "metadata": {
  "colab": {
   "collapsed_sections": [],
   "name": "Copy of New Chatbot.ipynb",
   "provenance": []
  },
  "kernelspec": {
   "display_name": "Python 3 (ipykernel)",
   "language": "python",
   "name": "python3"
  },
  "language_info": {
   "codemirror_mode": {
    "name": "ipython",
    "version": 3
   },
   "file_extension": ".py",
   "mimetype": "text/x-python",
   "name": "python",
   "nbconvert_exporter": "python",
   "pygments_lexer": "ipython3",
   "version": "3.9.6"
  }
 },
 "nbformat": 4,
 "nbformat_minor": 5
}
