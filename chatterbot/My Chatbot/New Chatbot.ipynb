{
 "cells": [
  {
   "cell_type": "code",
   "execution_count": 5,
   "id": "18f5066a",
   "metadata": {},
   "outputs": [],
   "source": [
    "#importing\n",
    "from nltk.chat.util import Chat,reflections"
   ]
  },
  {
   "cell_type": "code",
   "execution_count": null,
   "id": "df348dbf",
   "metadata": {},
   "outputs": [],
   "source": [
    "pairs=[\n",
    "    [('hola|hi|hello|hey|holla (.*)'),['Hey']]\n",
    "]\n",
    "chat=Chat(pairs)\n",
    "chat.converse()"
   ]
  },
  {
   "cell_type": "code",
   "execution_count": null,
   "id": "367a7f56",
   "metadata": {},
   "outputs": [],
   "source": []
  },
  {
   "cell_type": "code",
   "execution_count": null,
   "id": "517ea769",
   "metadata": {},
   "outputs": [],
   "source": []
  }
 ],
 "metadata": {
  "kernelspec": {
   "display_name": "Python 3 (ipykernel)",
   "language": "python",
   "name": "python3"
  },
  "language_info": {
   "codemirror_mode": {
    "name": "ipython",
    "version": 3
   },
   "file_extension": ".py",
   "mimetype": "text/x-python",
   "name": "python",
   "nbconvert_exporter": "python",
   "pygments_lexer": "ipython3",
   "version": "3.9.6"
  }
 },
 "nbformat": 4,
 "nbformat_minor": 5
}
